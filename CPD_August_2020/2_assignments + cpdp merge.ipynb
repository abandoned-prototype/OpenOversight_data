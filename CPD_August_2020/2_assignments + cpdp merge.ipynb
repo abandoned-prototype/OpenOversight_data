{
 "cells": [
  {
   "cell_type": "code",
   "execution_count": 1,
   "metadata": {},
   "outputs": [],
   "source": [
    "import pandas as pd\n",
    "import dateutil\n",
    "import numpy as np\n",
    "import datetime\n",
    "import re\n",
    "pd.options.display.max_columns = 40"
   ]
  },
  {
   "cell_type": "code",
   "execution_count": 2,
   "metadata": {},
   "outputs": [],
   "source": [
    "all_assignments=pd.read_csv(\"14532-P540798-InvisibleInstitute_DataInfoforallswornCPDofficers-UPDATEv2.csv\",\n",
    "                            parse_dates=[\"APPOINTED DATE\", \"END DATE\", \"EFFECTIVE DATE\"],\n",
    "                           dtype={\"YEAR OF BIRTH\": \"Int64\", \"STAR NUMBER\": \"Int64\"})"
   ]
  },
  {
   "cell_type": "code",
   "execution_count": 3,
   "metadata": {},
   "outputs": [],
   "source": [
    "all_assignments[\"MIDDLE INITIAL\"] = all_assignments[\"MIDDLE INITIAL\"].fillna(\"\").str.strip()\n",
    "all_assignments[\"LAST NAME\"] = all_assignments[\"LAST NAME\"].str.strip()\n",
    "all_assignments[\"FIRST NAME\"] = all_assignments[\"FIRST NAME\"].str.strip()"
   ]
  },
  {
   "cell_type": "code",
   "execution_count": 4,
   "metadata": {},
   "outputs": [],
   "source": [
    "all_assignments.index.name=\"assignment_index\""
   ]
  },
  {
   "cell_type": "code",
   "execution_count": 5,
   "metadata": {},
   "outputs": [],
   "source": [
    "all_assignments = all_assignments.reset_index().set_index(\"assignment_index\", drop=False)"
   ]
  },
  {
   "cell_type": "code",
   "execution_count": 6,
   "metadata": {},
   "outputs": [],
   "source": [
    "def date_minus_100_years(date):\n",
    "    return datetime.datetime(date.year-100, date.month, date.day)\n",
    "\n",
    "def fix_y2k(field):\n",
    "    all_assignments[field] = all_assignments[field].apply(\n",
    "        lambda x: date_minus_100_years(x) if not pd.isna(x) and x> pd.datetime.now() else x\n",
    "    )"
   ]
  },
  {
   "cell_type": "code",
   "execution_count": 7,
   "metadata": {},
   "outputs": [],
   "source": [
    "fix_y2k(\"APPOINTED DATE\")\n",
    "\n",
    "fix_y2k(\"END DATE\")\n",
    "\n",
    "fix_y2k(\"EFFECTIVE DATE\")"
   ]
  },
  {
   "cell_type": "code",
   "execution_count": 8,
   "metadata": {},
   "outputs": [],
   "source": [
    "def last_name_key(name):\n",
    "    if name:\n",
    "        n = re.sub(r\"[^A-Z ]\",\"\",name.upper())\n",
    "        pieces = n.split()\n",
    "        if pieces[-1] in [\"JR\", \"SR\", \"I\", \"II\", \"III\", \"IV\"]:\n",
    "            pieces = pieces[:-1]\n",
    "        return \"\".join(pieces)\n",
    "    return \"\""
   ]
  },
  {
   "cell_type": "code",
   "execution_count": 9,
   "metadata": {},
   "outputs": [],
   "source": [
    "all_assignments[\"last_name_key\"] = all_assignments[\"LAST NAME\"].apply(last_name_key)"
   ]
  },
  {
   "cell_type": "code",
   "execution_count": 10,
   "metadata": {},
   "outputs": [],
   "source": [
    "all_assignments[\"END DATE\"].fillna(pd.Timestamp.max, inplace=True)"
   ]
  },
  {
   "cell_type": "code",
   "execution_count": 11,
   "metadata": {},
   "outputs": [
    {
     "name": "stdout",
     "output_type": "stream",
     "text": [
      "<class 'pandas.core.frame.DataFrame'>\n",
      "Int64Index: 35863 entries, 0 to 35862\n",
      "Data columns (total 13 columns):\n",
      "assignment_index    35863 non-null int64\n",
      "FIRST NAME          35863 non-null object\n",
      "MIDDLE INITIAL      35863 non-null object\n",
      "LAST NAME           35863 non-null object\n",
      "YEAR OF BIRTH       35863 non-null Int64\n",
      "SEX                 35863 non-null object\n",
      "RACE                35863 non-null object\n",
      "APPOINTED DATE      35863 non-null datetime64[ns]\n",
      "STAR TYPE           35863 non-null object\n",
      "STAR NUMBER         35863 non-null Int64\n",
      "EFFECTIVE DATE      35863 non-null datetime64[ns]\n",
      "END DATE            35863 non-null datetime64[ns]\n",
      "last_name_key       35863 non-null object\n",
      "dtypes: Int64(2), datetime64[ns](3), int64(1), object(7)\n",
      "memory usage: 3.9+ MB\n"
     ]
    }
   ],
   "source": [
    "all_assignments.info()"
   ]
  },
  {
   "cell_type": "code",
   "execution_count": 12,
   "metadata": {},
   "outputs": [],
   "source": [
    "keys = [\"FIRST NAME\", \"last_name_key\", \"APPOINTED DATE\", \"YEAR OF BIRTH\", \"RACE\", \"SEX\", \"MIDDLE INITIAL\"]"
   ]
  },
  {
   "cell_type": "code",
   "execution_count": 13,
   "metadata": {},
   "outputs": [],
   "source": [
    "cops = all_assignments.groupby(keys).agg({\"END DATE\": \"max\", \"STAR NUMBER\": list, \"assignment_index\": list})"
   ]
  },
  {
   "cell_type": "code",
   "execution_count": 14,
   "metadata": {},
   "outputs": [],
   "source": [
    "cops=cops.reset_index().reset_index()"
   ]
  },
  {
   "cell_type": "code",
   "execution_count": 15,
   "metadata": {},
   "outputs": [
    {
     "data": {
      "text/html": [
       "<div>\n",
       "<style scoped>\n",
       "    .dataframe tbody tr th:only-of-type {\n",
       "        vertical-align: middle;\n",
       "    }\n",
       "\n",
       "    .dataframe tbody tr th {\n",
       "        vertical-align: top;\n",
       "    }\n",
       "\n",
       "    .dataframe thead th {\n",
       "        text-align: right;\n",
       "    }\n",
       "</style>\n",
       "<table border=\"1\" class=\"dataframe\">\n",
       "  <thead>\n",
       "    <tr style=\"text-align: right;\">\n",
       "      <th></th>\n",
       "      <th>index</th>\n",
       "      <th>FIRST NAME</th>\n",
       "      <th>last_name_key</th>\n",
       "      <th>APPOINTED DATE</th>\n",
       "      <th>YEAR OF BIRTH</th>\n",
       "      <th>RACE</th>\n",
       "      <th>SEX</th>\n",
       "      <th>MIDDLE INITIAL</th>\n",
       "      <th>END DATE</th>\n",
       "      <th>STAR NUMBER</th>\n",
       "      <th>assignment_index</th>\n",
       "    </tr>\n",
       "  </thead>\n",
       "  <tbody>\n",
       "    <tr>\n",
       "      <th>0</th>\n",
       "      <td>0</td>\n",
       "      <td>A RICHARD</td>\n",
       "      <td>LABRIOLA</td>\n",
       "      <td>1971-10-25</td>\n",
       "      <td>1943</td>\n",
       "      <td>WHITE</td>\n",
       "      <td>M</td>\n",
       "      <td></td>\n",
       "      <td>2004-03-15 00:00:00.000000000</td>\n",
       "      <td>[15869]</td>\n",
       "      <td>[17488]</td>\n",
       "    </tr>\n",
       "    <tr>\n",
       "      <th>1</th>\n",
       "      <td>1</td>\n",
       "      <td>AARON</td>\n",
       "      <td>ACEVEDO</td>\n",
       "      <td>2009-12-16</td>\n",
       "      <td>1982</td>\n",
       "      <td>HISPANIC</td>\n",
       "      <td>M</td>\n",
       "      <td>F</td>\n",
       "      <td>2262-04-11 23:47:16.854775807</td>\n",
       "      <td>[7792, 20009]</td>\n",
       "      <td>[53, 54]</td>\n",
       "    </tr>\n",
       "    <tr>\n",
       "      <th>2</th>\n",
       "      <td>2</td>\n",
       "      <td>AARON</td>\n",
       "      <td>ALLEY</td>\n",
       "      <td>2016-06-27</td>\n",
       "      <td>1985</td>\n",
       "      <td>BLACK</td>\n",
       "      <td>M</td>\n",
       "      <td>V</td>\n",
       "      <td>2262-04-11 23:47:16.854775807</td>\n",
       "      <td>[9516]</td>\n",
       "      <td>[516]</td>\n",
       "    </tr>\n",
       "    <tr>\n",
       "      <th>3</th>\n",
       "      <td>3</td>\n",
       "      <td>AARON</td>\n",
       "      <td>ANDERSON</td>\n",
       "      <td>2017-10-16</td>\n",
       "      <td>1981</td>\n",
       "      <td>WHITE</td>\n",
       "      <td>M</td>\n",
       "      <td></td>\n",
       "      <td>2262-04-11 23:47:16.854775807</td>\n",
       "      <td>[6550]</td>\n",
       "      <td>[729]</td>\n",
       "    </tr>\n",
       "    <tr>\n",
       "      <th>4</th>\n",
       "      <td>4</td>\n",
       "      <td>AARON</td>\n",
       "      <td>ARMSTEAD</td>\n",
       "      <td>2005-12-05</td>\n",
       "      <td>1975</td>\n",
       "      <td>BLACK</td>\n",
       "      <td>M</td>\n",
       "      <td>P</td>\n",
       "      <td>2262-04-11 23:47:16.854775807</td>\n",
       "      <td>[13768]</td>\n",
       "      <td>[1024]</td>\n",
       "    </tr>\n",
       "  </tbody>\n",
       "</table>\n",
       "</div>"
      ],
      "text/plain": [
       "   index FIRST NAME last_name_key APPOINTED DATE  YEAR OF BIRTH      RACE SEX  \\\n",
       "0      0  A RICHARD      LABRIOLA     1971-10-25           1943     WHITE   M   \n",
       "1      1      AARON       ACEVEDO     2009-12-16           1982  HISPANIC   M   \n",
       "2      2      AARON         ALLEY     2016-06-27           1985     BLACK   M   \n",
       "3      3      AARON      ANDERSON     2017-10-16           1981     WHITE   M   \n",
       "4      4      AARON      ARMSTEAD     2005-12-05           1975     BLACK   M   \n",
       "\n",
       "  MIDDLE INITIAL                      END DATE    STAR NUMBER assignment_index  \n",
       "0                2004-03-15 00:00:00.000000000        [15869]          [17488]  \n",
       "1              F 2262-04-11 23:47:16.854775807  [7792, 20009]         [53, 54]  \n",
       "2              V 2262-04-11 23:47:16.854775807         [9516]            [516]  \n",
       "3                2262-04-11 23:47:16.854775807         [6550]            [729]  \n",
       "4              P 2262-04-11 23:47:16.854775807        [13768]           [1024]  "
      ]
     },
     "execution_count": 15,
     "metadata": {},
     "output_type": "execute_result"
    }
   ],
   "source": [
    "cops.head()"
   ]
  },
  {
   "cell_type": "code",
   "execution_count": 16,
   "metadata": {},
   "outputs": [],
   "source": [
    "cops[\"YEAR OF BIRTH\"]=cops[\"YEAR OF BIRTH\"].astype(\"Int64\")"
   ]
  },
  {
   "cell_type": "code",
   "execution_count": 17,
   "metadata": {},
   "outputs": [],
   "source": [
    "cops[\"index\"]=cops[\"index\"].astype(\"Int64\")"
   ]
  },
  {
   "cell_type": "code",
   "execution_count": 18,
   "metadata": {},
   "outputs": [
    {
     "name": "stdout",
     "output_type": "stream",
     "text": [
      "<class 'pandas.core.frame.DataFrame'>\n",
      "RangeIndex: 22916 entries, 0 to 22915\n",
      "Data columns (total 11 columns):\n",
      "index               22916 non-null Int64\n",
      "FIRST NAME          22916 non-null object\n",
      "last_name_key       22916 non-null object\n",
      "APPOINTED DATE      22916 non-null datetime64[ns]\n",
      "YEAR OF BIRTH       22916 non-null Int64\n",
      "RACE                22916 non-null object\n",
      "SEX                 22916 non-null object\n",
      "MIDDLE INITIAL      22916 non-null object\n",
      "END DATE            22916 non-null datetime64[ns]\n",
      "STAR NUMBER         22916 non-null object\n",
      "assignment_index    22916 non-null object\n",
      "dtypes: Int64(2), datetime64[ns](2), object(7)\n",
      "memory usage: 2.0+ MB\n"
     ]
    }
   ],
   "source": [
    "cops.info()"
   ]
  },
  {
   "cell_type": "code",
   "execution_count": 19,
   "metadata": {},
   "outputs": [],
   "source": [
    "cpdp_profiles = pd.read_csv(\"final-profiles.csv\",\n",
    "                            dtype={4:\"str\", 15: \"str\", \"birth_year\": \"Int64\", \"link_UID\": \"Int64\",\n",
    "                                  \"current_status\": \"Int64\", \"current_star\": \"Int64\",\n",
    "                                  \"current_unit\": \"Int64\"},\n",
    "                            parse_dates=[\"appointed_date\", \"resignation_date\", \"start_date\", \"org_hire_date\"]\n",
    "                           ).set_index(\"UID\", drop=False)"
   ]
  },
  {
   "cell_type": "code",
   "execution_count": 20,
   "metadata": {},
   "outputs": [
    {
     "data": {
      "text/plain": [
       "(33693, 20)"
      ]
     },
     "execution_count": 20,
     "metadata": {},
     "output_type": "execute_result"
    }
   ],
   "source": [
    "cpdp_profiles.shape"
   ]
  },
  {
   "cell_type": "code",
   "execution_count": 21,
   "metadata": {},
   "outputs": [],
   "source": [
    "cpdp_reduced = cpdp_profiles.loc[:133667].copy() # tail end does not match cpdp online data"
   ]
  },
  {
   "cell_type": "code",
   "execution_count": 22,
   "metadata": {},
   "outputs": [],
   "source": [
    "cpdp_reduced[\"UID\"]=cpdp_reduced[\"UID\"].astype(\"Int64\")"
   ]
  },
  {
   "cell_type": "code",
   "execution_count": 23,
   "metadata": {},
   "outputs": [],
   "source": [
    "cpdp_reduced[\"last_name_key\"] = cpdp_reduced[\"last_name\"].apply(last_name_key)"
   ]
  },
  {
   "cell_type": "code",
   "execution_count": 24,
   "metadata": {},
   "outputs": [],
   "source": [
    "cpdp_reduced[\"middle_initial\"] = cpdp_reduced[\"middle_initial\"].fillna(\"\").str.strip()"
   ]
  },
  {
   "cell_type": "code",
   "execution_count": 25,
   "metadata": {},
   "outputs": [
    {
     "name": "stdout",
     "output_type": "stream",
     "text": [
      "<class 'pandas.core.frame.DataFrame'>\n",
      "Int64Index: 33667 entries, 100001 to 133667\n",
      "Data columns (total 21 columns):\n",
      "UID                 33667 non-null Int64\n",
      "first_name          33667 non-null object\n",
      "last_name           33667 non-null object\n",
      "middle_initial      33667 non-null object\n",
      "middle_initial2     8 non-null object\n",
      "suffix_name         1689 non-null object\n",
      "birth_year          32562 non-null Int64\n",
      "race                33477 non-null object\n",
      "gender              33643 non-null object\n",
      "appointed_date      33594 non-null datetime64[ns]\n",
      "resignation_date    20194 non-null datetime64[ns]\n",
      "current_status      31789 non-null Int64\n",
      "current_star        15364 non-null Int64\n",
      "current_unit        31606 non-null Int64\n",
      "current_rank        31473 non-null object\n",
      "start_date          18971 non-null datetime64[ns]\n",
      "org_hire_date       19786 non-null datetime64[ns]\n",
      "profile_count       33667 non-null int64\n",
      "cleaned_rank        31473 non-null object\n",
      "link_UID            33667 non-null Int64\n",
      "last_name_key       33667 non-null object\n",
      "dtypes: Int64(6), datetime64[ns](4), int64(1), object(10)\n",
      "memory usage: 5.8+ MB\n"
     ]
    }
   ],
   "source": [
    "cpdp_reduced.info()"
   ]
  },
  {
   "cell_type": "code",
   "execution_count": 26,
   "metadata": {},
   "outputs": [],
   "source": [
    "merge1=cops.merge(cpdp_reduced, left_on=[\"FIRST NAME\", \"last_name_key\", \"APPOINTED DATE\", \"YEAR OF BIRTH\"],\n",
    "                    right_on=[\"first_name\", \"last_name_key\", \"appointed_date\", \"birth_year\"],\n",
    "                   indicator=True, how=\"outer\")"
   ]
  },
  {
   "cell_type": "code",
   "execution_count": 27,
   "metadata": {},
   "outputs": [
    {
     "data": {
      "text/plain": [
       "_merge\n",
       "left_only      2385\n",
       "right_only    13133\n",
       "both          20534\n",
       "dtype: int64"
      ]
     },
     "execution_count": 27,
     "metadata": {},
     "output_type": "execute_result"
    }
   ],
   "source": [
    "merge1.groupby(\"_merge\").size()"
   ]
  },
  {
   "cell_type": "code",
   "execution_count": 28,
   "metadata": {},
   "outputs": [
    {
     "data": {
      "text/html": [
       "<div>\n",
       "<style scoped>\n",
       "    .dataframe tbody tr th:only-of-type {\n",
       "        vertical-align: middle;\n",
       "    }\n",
       "\n",
       "    .dataframe tbody tr th {\n",
       "        vertical-align: top;\n",
       "    }\n",
       "\n",
       "    .dataframe thead th {\n",
       "        text-align: right;\n",
       "    }\n",
       "</style>\n",
       "<table border=\"1\" class=\"dataframe\">\n",
       "  <thead>\n",
       "    <tr style=\"text-align: right;\">\n",
       "      <th></th>\n",
       "      <th>index</th>\n",
       "      <th>FIRST NAME</th>\n",
       "      <th>last_name_key</th>\n",
       "      <th>APPOINTED DATE</th>\n",
       "      <th>YEAR OF BIRTH</th>\n",
       "      <th>RACE</th>\n",
       "      <th>SEX</th>\n",
       "      <th>MIDDLE INITIAL</th>\n",
       "      <th>END DATE</th>\n",
       "      <th>STAR NUMBER</th>\n",
       "      <th>assignment_index</th>\n",
       "      <th>UID</th>\n",
       "      <th>first_name</th>\n",
       "      <th>last_name</th>\n",
       "      <th>middle_initial</th>\n",
       "      <th>middle_initial2</th>\n",
       "      <th>suffix_name</th>\n",
       "      <th>birth_year</th>\n",
       "      <th>race</th>\n",
       "      <th>gender</th>\n",
       "      <th>appointed_date</th>\n",
       "      <th>resignation_date</th>\n",
       "      <th>current_status</th>\n",
       "      <th>current_star</th>\n",
       "      <th>current_unit</th>\n",
       "      <th>current_rank</th>\n",
       "      <th>start_date</th>\n",
       "      <th>org_hire_date</th>\n",
       "      <th>profile_count</th>\n",
       "      <th>cleaned_rank</th>\n",
       "      <th>link_UID</th>\n",
       "      <th>_merge</th>\n",
       "    </tr>\n",
       "  </thead>\n",
       "  <tbody>\n",
       "    <tr>\n",
       "      <th>8333</th>\n",
       "      <td>8333</td>\n",
       "      <td>JAMES</td>\n",
       "      <td>BANSLEY</td>\n",
       "      <td>2009-12-16</td>\n",
       "      <td>1983</td>\n",
       "      <td>WHITE</td>\n",
       "      <td>M</td>\n",
       "      <td>H</td>\n",
       "      <td>2262-04-11 23:47:16.854775807</td>\n",
       "      <td>[8791]</td>\n",
       "      <td>[1535]</td>\n",
       "      <td>111205</td>\n",
       "      <td>JAMES</td>\n",
       "      <td>BANSLEY</td>\n",
       "      <td>A</td>\n",
       "      <td>NaN</td>\n",
       "      <td>NaN</td>\n",
       "      <td>1983</td>\n",
       "      <td>WHITE</td>\n",
       "      <td>MALE</td>\n",
       "      <td>2009-12-16</td>\n",
       "      <td>NaT</td>\n",
       "      <td>1</td>\n",
       "      <td>10927</td>\n",
       "      <td>5</td>\n",
       "      <td>POLICE OFFICER</td>\n",
       "      <td>2009-12-16</td>\n",
       "      <td>2009-12-16</td>\n",
       "      <td>10.0</td>\n",
       "      <td>POLICE OFFICER</td>\n",
       "      <td>1262</td>\n",
       "      <td>both</td>\n",
       "    </tr>\n",
       "    <tr>\n",
       "      <th>8334</th>\n",
       "      <td>8333</td>\n",
       "      <td>JAMES</td>\n",
       "      <td>BANSLEY</td>\n",
       "      <td>2009-12-16</td>\n",
       "      <td>1983</td>\n",
       "      <td>WHITE</td>\n",
       "      <td>M</td>\n",
       "      <td>H</td>\n",
       "      <td>2262-04-11 23:47:16.854775807</td>\n",
       "      <td>[8791]</td>\n",
       "      <td>[1535]</td>\n",
       "      <td>111206</td>\n",
       "      <td>JAMES</td>\n",
       "      <td>BANSLEY</td>\n",
       "      <td>H</td>\n",
       "      <td>NaN</td>\n",
       "      <td>NaN</td>\n",
       "      <td>1983</td>\n",
       "      <td>WHITE</td>\n",
       "      <td>MALE</td>\n",
       "      <td>2009-12-16</td>\n",
       "      <td>NaT</td>\n",
       "      <td>1</td>\n",
       "      <td>8791</td>\n",
       "      <td>4</td>\n",
       "      <td>POLICE OFFICER</td>\n",
       "      <td>2009-12-16</td>\n",
       "      <td>2009-12-16</td>\n",
       "      <td>12.0</td>\n",
       "      <td>POLICE OFFICER</td>\n",
       "      <td>1263</td>\n",
       "      <td>both</td>\n",
       "    </tr>\n",
       "    <tr>\n",
       "      <th>18197</th>\n",
       "      <td>18196</td>\n",
       "      <td>ROBERT</td>\n",
       "      <td>ANDERSON</td>\n",
       "      <td>1970-01-19</td>\n",
       "      <td>1948</td>\n",
       "      <td>WHITE</td>\n",
       "      <td>M</td>\n",
       "      <td>M</td>\n",
       "      <td>2002-06-12 00:00:00.000000000</td>\n",
       "      <td>[8024]</td>\n",
       "      <td>[801]</td>\n",
       "      <td>124724</td>\n",
       "      <td>ROBERT</td>\n",
       "      <td>ANDERSON</td>\n",
       "      <td>M</td>\n",
       "      <td>NaN</td>\n",
       "      <td>NaN</td>\n",
       "      <td>1948</td>\n",
       "      <td>WHITE</td>\n",
       "      <td>MALE</td>\n",
       "      <td>1970-01-19</td>\n",
       "      <td>2002-06-15</td>\n",
       "      <td>0</td>\n",
       "      <td>NaN</td>\n",
       "      <td>128</td>\n",
       "      <td>POLICE OFFICER</td>\n",
       "      <td>NaT</td>\n",
       "      <td>NaT</td>\n",
       "      <td>3.0</td>\n",
       "      <td>POLICE OFFICER</td>\n",
       "      <td>589</td>\n",
       "      <td>both</td>\n",
       "    </tr>\n",
       "    <tr>\n",
       "      <th>18198</th>\n",
       "      <td>18196</td>\n",
       "      <td>ROBERT</td>\n",
       "      <td>ANDERSON</td>\n",
       "      <td>1970-01-19</td>\n",
       "      <td>1948</td>\n",
       "      <td>WHITE</td>\n",
       "      <td>M</td>\n",
       "      <td>M</td>\n",
       "      <td>2002-06-12 00:00:00.000000000</td>\n",
       "      <td>[8024]</td>\n",
       "      <td>[801]</td>\n",
       "      <td>124725</td>\n",
       "      <td>ROBERT</td>\n",
       "      <td>ANDERSON</td>\n",
       "      <td>J</td>\n",
       "      <td>NaN</td>\n",
       "      <td>NaN</td>\n",
       "      <td>1948</td>\n",
       "      <td>WHITE</td>\n",
       "      <td>MALE</td>\n",
       "      <td>1970-01-19</td>\n",
       "      <td>2009-04-29</td>\n",
       "      <td>0</td>\n",
       "      <td>NaN</td>\n",
       "      <td>16</td>\n",
       "      <td>POLICE OFFICER</td>\n",
       "      <td>NaT</td>\n",
       "      <td>NaT</td>\n",
       "      <td>3.0</td>\n",
       "      <td>POLICE OFFICER</td>\n",
       "      <td>620</td>\n",
       "      <td>both</td>\n",
       "    </tr>\n",
       "    <tr>\n",
       "      <th>18219</th>\n",
       "      <td>18217</td>\n",
       "      <td>ROBERT</td>\n",
       "      <td>BARRETT</td>\n",
       "      <td>1950-06-03</td>\n",
       "      <td>1926</td>\n",
       "      <td>WHITE</td>\n",
       "      <td>M</td>\n",
       "      <td>E</td>\n",
       "      <td>2262-04-11 23:47:16.854775807</td>\n",
       "      <td>[2010]</td>\n",
       "      <td>[1718]</td>\n",
       "      <td>124757</td>\n",
       "      <td>ROBERT</td>\n",
       "      <td>BARRETT</td>\n",
       "      <td>J</td>\n",
       "      <td>NaN</td>\n",
       "      <td>NaN</td>\n",
       "      <td>1926</td>\n",
       "      <td>WHITE</td>\n",
       "      <td>MALE</td>\n",
       "      <td>1950-06-03</td>\n",
       "      <td>1985-08-17</td>\n",
       "      <td>0</td>\n",
       "      <td>NaN</td>\n",
       "      <td>11</td>\n",
       "      <td>LIEUTENANT OF POLICE</td>\n",
       "      <td>NaT</td>\n",
       "      <td>NaT</td>\n",
       "      <td>4.0</td>\n",
       "      <td>LIEUTENANT</td>\n",
       "      <td>1406</td>\n",
       "      <td>both</td>\n",
       "    </tr>\n",
       "    <tr>\n",
       "      <th>18220</th>\n",
       "      <td>18217</td>\n",
       "      <td>ROBERT</td>\n",
       "      <td>BARRETT</td>\n",
       "      <td>1950-06-03</td>\n",
       "      <td>1926</td>\n",
       "      <td>WHITE</td>\n",
       "      <td>M</td>\n",
       "      <td>E</td>\n",
       "      <td>2262-04-11 23:47:16.854775807</td>\n",
       "      <td>[2010]</td>\n",
       "      <td>[1718]</td>\n",
       "      <td>124758</td>\n",
       "      <td>ROBERT</td>\n",
       "      <td>BARRETT</td>\n",
       "      <td>E</td>\n",
       "      <td>NaN</td>\n",
       "      <td>NaN</td>\n",
       "      <td>1926</td>\n",
       "      <td>WHITE</td>\n",
       "      <td>MALE</td>\n",
       "      <td>1950-06-03</td>\n",
       "      <td>1985-09-10</td>\n",
       "      <td>0</td>\n",
       "      <td>NaN</td>\n",
       "      <td>165</td>\n",
       "      <td>SERGEANT OF POLICE</td>\n",
       "      <td>NaT</td>\n",
       "      <td>NaT</td>\n",
       "      <td>3.0</td>\n",
       "      <td>SERGEANT</td>\n",
       "      <td>1401</td>\n",
       "      <td>both</td>\n",
       "    </tr>\n",
       "  </tbody>\n",
       "</table>\n",
       "</div>"
      ],
      "text/plain": [
       "       index FIRST NAME last_name_key APPOINTED DATE  YEAR OF BIRTH   RACE  \\\n",
       "8333    8333      JAMES       BANSLEY     2009-12-16           1983  WHITE   \n",
       "8334    8333      JAMES       BANSLEY     2009-12-16           1983  WHITE   \n",
       "18197  18196     ROBERT      ANDERSON     1970-01-19           1948  WHITE   \n",
       "18198  18196     ROBERT      ANDERSON     1970-01-19           1948  WHITE   \n",
       "18219  18217     ROBERT       BARRETT     1950-06-03           1926  WHITE   \n",
       "18220  18217     ROBERT       BARRETT     1950-06-03           1926  WHITE   \n",
       "\n",
       "      SEX MIDDLE INITIAL                      END DATE STAR NUMBER  \\\n",
       "8333    M              H 2262-04-11 23:47:16.854775807      [8791]   \n",
       "8334    M              H 2262-04-11 23:47:16.854775807      [8791]   \n",
       "18197   M              M 2002-06-12 00:00:00.000000000      [8024]   \n",
       "18198   M              M 2002-06-12 00:00:00.000000000      [8024]   \n",
       "18219   M              E 2262-04-11 23:47:16.854775807      [2010]   \n",
       "18220   M              E 2262-04-11 23:47:16.854775807      [2010]   \n",
       "\n",
       "      assignment_index     UID first_name last_name middle_initial  \\\n",
       "8333            [1535]  111205      JAMES   BANSLEY              A   \n",
       "8334            [1535]  111206      JAMES   BANSLEY              H   \n",
       "18197            [801]  124724     ROBERT  ANDERSON              M   \n",
       "18198            [801]  124725     ROBERT  ANDERSON              J   \n",
       "18219           [1718]  124757     ROBERT   BARRETT              J   \n",
       "18220           [1718]  124758     ROBERT   BARRETT              E   \n",
       "\n",
       "      middle_initial2 suffix_name  birth_year   race gender appointed_date  \\\n",
       "8333              NaN         NaN        1983  WHITE   MALE     2009-12-16   \n",
       "8334              NaN         NaN        1983  WHITE   MALE     2009-12-16   \n",
       "18197             NaN         NaN        1948  WHITE   MALE     1970-01-19   \n",
       "18198             NaN         NaN        1948  WHITE   MALE     1970-01-19   \n",
       "18219             NaN         NaN        1926  WHITE   MALE     1950-06-03   \n",
       "18220             NaN         NaN        1926  WHITE   MALE     1950-06-03   \n",
       "\n",
       "      resignation_date  current_status  current_star  current_unit  \\\n",
       "8333               NaT               1         10927             5   \n",
       "8334               NaT               1          8791             4   \n",
       "18197       2002-06-15               0           NaN           128   \n",
       "18198       2009-04-29               0           NaN            16   \n",
       "18219       1985-08-17               0           NaN            11   \n",
       "18220       1985-09-10               0           NaN           165   \n",
       "\n",
       "               current_rank start_date org_hire_date  profile_count  \\\n",
       "8333         POLICE OFFICER 2009-12-16    2009-12-16           10.0   \n",
       "8334         POLICE OFFICER 2009-12-16    2009-12-16           12.0   \n",
       "18197        POLICE OFFICER        NaT           NaT            3.0   \n",
       "18198        POLICE OFFICER        NaT           NaT            3.0   \n",
       "18219  LIEUTENANT OF POLICE        NaT           NaT            4.0   \n",
       "18220    SERGEANT OF POLICE        NaT           NaT            3.0   \n",
       "\n",
       "         cleaned_rank  link_UID _merge  \n",
       "8333   POLICE OFFICER      1262   both  \n",
       "8334   POLICE OFFICER      1263   both  \n",
       "18197  POLICE OFFICER       589   both  \n",
       "18198  POLICE OFFICER       620   both  \n",
       "18219      LIEUTENANT      1406   both  \n",
       "18220        SERGEANT      1401   both  "
      ]
     },
     "execution_count": 28,
     "metadata": {},
     "output_type": "execute_result"
    }
   ],
   "source": [
    "s=merge1[[\"index\"]].groupby(\"index\").size()\n",
    "merge1[merge1[\"index\"].isin(s[s>1].index)]"
   ]
  },
  {
   "cell_type": "code",
   "execution_count": 29,
   "metadata": {},
   "outputs": [],
   "source": [
    "drop_dup_merge = merge1[merge1[\"index\"].isin(s[s>1].index) & (merge1[\"MIDDLE INITIAL\"]!=merge1[\"middle_initial\"])]"
   ]
  },
  {
   "cell_type": "code",
   "execution_count": 30,
   "metadata": {},
   "outputs": [],
   "source": [
    "merge1.loc[drop_dup_merge.index, \"_merge\"] = \"right_only\""
   ]
  },
  {
   "cell_type": "code",
   "execution_count": 31,
   "metadata": {},
   "outputs": [],
   "source": [
    "unmatched_left=cops.loc[merge1[merge1[\"_merge\"]==\"left_only\"][\"index\"]].copy()"
   ]
  },
  {
   "cell_type": "code",
   "execution_count": 32,
   "metadata": {},
   "outputs": [],
   "source": [
    "unmatched_right = cpdp_reduced.loc[merge1[merge1[\"_merge\"]==\"right_only\"][\"UID\"]].copy()"
   ]
  },
  {
   "cell_type": "code",
   "execution_count": 33,
   "metadata": {},
   "outputs": [],
   "source": [
    "unmatched_right[\"middle_initial\"].fillna(\"\",inplace=True)"
   ]
  },
  {
   "cell_type": "markdown",
   "metadata": {},
   "source": [
    "# Additional partial match"
   ]
  },
  {
   "cell_type": "code",
   "execution_count": 34,
   "metadata": {},
   "outputs": [],
   "source": [
    "match_by_first_last_name = unmatched_left.merge(unmatched_right,\n",
    "                    left_on=[\"FIRST NAME\", \"last_name_key\"],\n",
    "                    right_on=[\"first_name\", \"last_name_key\"],\n",
    "                                           indicator=True)"
   ]
  },
  {
   "cell_type": "code",
   "execution_count": 35,
   "metadata": {},
   "outputs": [],
   "source": [
    "badge_number_match=match_by_first_last_name[\n",
    "    [\"current_star\",\"STAR NUMBER\"]].apply(lambda x: x[0] in x[1], axis=1)"
   ]
  },
  {
   "cell_type": "code",
   "execution_count": 36,
   "metadata": {},
   "outputs": [],
   "source": [
    "confident_partial_match = match_by_first_last_name[\n",
    "        (match_by_first_last_name[\"appointed_date\"].isna()&\n",
    "         match_by_first_last_name[\"birth_year\"].isna()&\n",
    "         match_by_first_last_name[\"middle_initial\"] == match_by_first_last_name[\"MIDDLE INITIAL\"])\n",
    "    |(\n",
    "         (match_by_first_last_name[\"appointed_date\"]==match_by_first_last_name[\"APPOINTED DATE\"]) &\n",
    "         (match_by_first_last_name[\"middle_initial\"] == match_by_first_last_name[\"MIDDLE INITIAL\"]))\n",
    "    |(\n",
    "        (badge_number_match)&\n",
    "        (\n",
    "            match_by_first_last_name[\"birth_year\"].isna() |\n",
    "            (abs(match_by_first_last_name[\"birth_year\"]-match_by_first_last_name[\"YEAR OF BIRTH\"])<=1)\n",
    "        )\n",
    "    )]"
   ]
  },
  {
   "cell_type": "code",
   "execution_count": 37,
   "metadata": {},
   "outputs": [
    {
     "data": {
      "text/plain": [
       "1018"
      ]
     },
     "execution_count": 37,
     "metadata": {},
     "output_type": "execute_result"
    }
   ],
   "source": [
    "len(confident_partial_match)"
   ]
  },
  {
   "cell_type": "markdown",
   "metadata": {},
   "source": [
    "# Generate merge df"
   ]
  },
  {
   "cell_type": "code",
   "execution_count": 38,
   "metadata": {},
   "outputs": [],
   "source": [
    "merge_table = merge1[merge1[\"_merge\"]==\"both\"][[\"index\", \"UID\"]].append(\n",
    "    confident_partial_match[[\"index\", \"UID\"]],\n",
    "    ignore_index=True)"
   ]
  },
  {
   "cell_type": "code",
   "execution_count": 39,
   "metadata": {},
   "outputs": [
    {
     "data": {
      "text/plain": [
       "(21549, 2)"
      ]
     },
     "execution_count": 39,
     "metadata": {},
     "output_type": "execute_result"
    }
   ],
   "source": [
    "merge_table.shape"
   ]
  },
  {
   "cell_type": "code",
   "execution_count": 40,
   "metadata": {},
   "outputs": [
    {
     "data": {
      "text/plain": [
       "True"
      ]
     },
     "execution_count": 40,
     "metadata": {},
     "output_type": "execute_result"
    }
   ],
   "source": [
    "merge_table[\"UID\"].is_unique"
   ]
  },
  {
   "cell_type": "code",
   "execution_count": 41,
   "metadata": {},
   "outputs": [
    {
     "data": {
      "text/plain": [
       "True"
      ]
     },
     "execution_count": 41,
     "metadata": {},
     "output_type": "execute_result"
    }
   ],
   "source": [
    "merge_table[\"index\"].is_unique"
   ]
  },
  {
   "cell_type": "code",
   "execution_count": 42,
   "metadata": {},
   "outputs": [
    {
     "data": {
      "text/plain": [
       "1367"
      ]
     },
     "execution_count": 42,
     "metadata": {},
     "output_type": "execute_result"
    }
   ],
   "source": [
    "len(cops)-len(merge_table)  # number cops not in cpdp"
   ]
  },
  {
   "cell_type": "markdown",
   "metadata": {},
   "source": [
    "# store tables"
   ]
  },
  {
   "cell_type": "code",
   "execution_count": 43,
   "metadata": {},
   "outputs": [],
   "source": [
    "col = []\n",
    "for idx, val in cops[\"assignment_index\"].iteritems():\n",
    "    for v in val:\n",
    "        col+=[(idx, v)]\n",
    "assignment_cop_table = pd.DataFrame.from_records(col, columns=[\"cops_index\",\"assignment_index\"])"
   ]
  },
  {
   "cell_type": "code",
   "execution_count": 44,
   "metadata": {},
   "outputs": [
    {
     "data": {
      "text/html": [
       "<div>\n",
       "<style scoped>\n",
       "    .dataframe tbody tr th:only-of-type {\n",
       "        vertical-align: middle;\n",
       "    }\n",
       "\n",
       "    .dataframe tbody tr th {\n",
       "        vertical-align: top;\n",
       "    }\n",
       "\n",
       "    .dataframe thead th {\n",
       "        text-align: right;\n",
       "    }\n",
       "</style>\n",
       "<table border=\"1\" class=\"dataframe\">\n",
       "  <thead>\n",
       "    <tr style=\"text-align: right;\">\n",
       "      <th></th>\n",
       "      <th>cops_index</th>\n",
       "      <th>assignment_index</th>\n",
       "    </tr>\n",
       "  </thead>\n",
       "  <tbody>\n",
       "    <tr>\n",
       "      <th>0</th>\n",
       "      <td>0</td>\n",
       "      <td>17488</td>\n",
       "    </tr>\n",
       "    <tr>\n",
       "      <th>1</th>\n",
       "      <td>1</td>\n",
       "      <td>53</td>\n",
       "    </tr>\n",
       "    <tr>\n",
       "      <th>2</th>\n",
       "      <td>1</td>\n",
       "      <td>54</td>\n",
       "    </tr>\n",
       "    <tr>\n",
       "      <th>3</th>\n",
       "      <td>2</td>\n",
       "      <td>516</td>\n",
       "    </tr>\n",
       "    <tr>\n",
       "      <th>4</th>\n",
       "      <td>3</td>\n",
       "      <td>729</td>\n",
       "    </tr>\n",
       "    <tr>\n",
       "      <th>5</th>\n",
       "      <td>4</td>\n",
       "      <td>1024</td>\n",
       "    </tr>\n",
       "    <tr>\n",
       "      <th>6</th>\n",
       "      <td>5</td>\n",
       "      <td>3882</td>\n",
       "    </tr>\n",
       "    <tr>\n",
       "      <th>7</th>\n",
       "      <td>6</td>\n",
       "      <td>4541</td>\n",
       "    </tr>\n",
       "    <tr>\n",
       "      <th>8</th>\n",
       "      <td>6</td>\n",
       "      <td>4542</td>\n",
       "    </tr>\n",
       "    <tr>\n",
       "      <th>9</th>\n",
       "      <td>6</td>\n",
       "      <td>4543</td>\n",
       "    </tr>\n",
       "    <tr>\n",
       "      <th>10</th>\n",
       "      <td>7</td>\n",
       "      <td>5086</td>\n",
       "    </tr>\n",
       "    <tr>\n",
       "      <th>11</th>\n",
       "      <td>8</td>\n",
       "      <td>5106</td>\n",
       "    </tr>\n",
       "    <tr>\n",
       "      <th>12</th>\n",
       "      <td>8</td>\n",
       "      <td>5107</td>\n",
       "    </tr>\n",
       "    <tr>\n",
       "      <th>13</th>\n",
       "      <td>8</td>\n",
       "      <td>5108</td>\n",
       "    </tr>\n",
       "    <tr>\n",
       "      <th>14</th>\n",
       "      <td>9</td>\n",
       "      <td>5606</td>\n",
       "    </tr>\n",
       "    <tr>\n",
       "      <th>15</th>\n",
       "      <td>9</td>\n",
       "      <td>5607</td>\n",
       "    </tr>\n",
       "    <tr>\n",
       "      <th>16</th>\n",
       "      <td>9</td>\n",
       "      <td>5608</td>\n",
       "    </tr>\n",
       "    <tr>\n",
       "      <th>17</th>\n",
       "      <td>10</td>\n",
       "      <td>6287</td>\n",
       "    </tr>\n",
       "    <tr>\n",
       "      <th>18</th>\n",
       "      <td>11</td>\n",
       "      <td>6653</td>\n",
       "    </tr>\n",
       "    <tr>\n",
       "      <th>19</th>\n",
       "      <td>11</td>\n",
       "      <td>6654</td>\n",
       "    </tr>\n",
       "    <tr>\n",
       "      <th>20</th>\n",
       "      <td>11</td>\n",
       "      <td>6655</td>\n",
       "    </tr>\n",
       "    <tr>\n",
       "      <th>21</th>\n",
       "      <td>12</td>\n",
       "      <td>7060</td>\n",
       "    </tr>\n",
       "    <tr>\n",
       "      <th>22</th>\n",
       "      <td>13</td>\n",
       "      <td>7217</td>\n",
       "    </tr>\n",
       "    <tr>\n",
       "      <th>23</th>\n",
       "      <td>14</td>\n",
       "      <td>7464</td>\n",
       "    </tr>\n",
       "    <tr>\n",
       "      <th>24</th>\n",
       "      <td>14</td>\n",
       "      <td>7465</td>\n",
       "    </tr>\n",
       "    <tr>\n",
       "      <th>25</th>\n",
       "      <td>14</td>\n",
       "      <td>7466</td>\n",
       "    </tr>\n",
       "    <tr>\n",
       "      <th>26</th>\n",
       "      <td>14</td>\n",
       "      <td>7467</td>\n",
       "    </tr>\n",
       "    <tr>\n",
       "      <th>27</th>\n",
       "      <td>14</td>\n",
       "      <td>7468</td>\n",
       "    </tr>\n",
       "    <tr>\n",
       "      <th>28</th>\n",
       "      <td>15</td>\n",
       "      <td>9797</td>\n",
       "    </tr>\n",
       "    <tr>\n",
       "      <th>29</th>\n",
       "      <td>16</td>\n",
       "      <td>10507</td>\n",
       "    </tr>\n",
       "    <tr>\n",
       "      <th>...</th>\n",
       "      <td>...</td>\n",
       "      <td>...</td>\n",
       "    </tr>\n",
       "    <tr>\n",
       "      <th>35833</th>\n",
       "      <td>22896</td>\n",
       "      <td>7215</td>\n",
       "    </tr>\n",
       "    <tr>\n",
       "      <th>35834</th>\n",
       "      <td>22897</td>\n",
       "      <td>26148</td>\n",
       "    </tr>\n",
       "    <tr>\n",
       "      <th>35835</th>\n",
       "      <td>22898</td>\n",
       "      <td>21350</td>\n",
       "    </tr>\n",
       "    <tr>\n",
       "      <th>35836</th>\n",
       "      <td>22898</td>\n",
       "      <td>21351</td>\n",
       "    </tr>\n",
       "    <tr>\n",
       "      <th>35837</th>\n",
       "      <td>22899</td>\n",
       "      <td>19838</td>\n",
       "    </tr>\n",
       "    <tr>\n",
       "      <th>35838</th>\n",
       "      <td>22900</td>\n",
       "      <td>30392</td>\n",
       "    </tr>\n",
       "    <tr>\n",
       "      <th>35839</th>\n",
       "      <td>22900</td>\n",
       "      <td>30393</td>\n",
       "    </tr>\n",
       "    <tr>\n",
       "      <th>35840</th>\n",
       "      <td>22900</td>\n",
       "      <td>30394</td>\n",
       "    </tr>\n",
       "    <tr>\n",
       "      <th>35841</th>\n",
       "      <td>22901</td>\n",
       "      <td>6762</td>\n",
       "    </tr>\n",
       "    <tr>\n",
       "      <th>35842</th>\n",
       "      <td>22901</td>\n",
       "      <td>6763</td>\n",
       "    </tr>\n",
       "    <tr>\n",
       "      <th>35843</th>\n",
       "      <td>22902</td>\n",
       "      <td>23031</td>\n",
       "    </tr>\n",
       "    <tr>\n",
       "      <th>35844</th>\n",
       "      <td>22903</td>\n",
       "      <td>34836</td>\n",
       "    </tr>\n",
       "    <tr>\n",
       "      <th>35845</th>\n",
       "      <td>22904</td>\n",
       "      <td>21877</td>\n",
       "    </tr>\n",
       "    <tr>\n",
       "      <th>35846</th>\n",
       "      <td>22905</td>\n",
       "      <td>34837</td>\n",
       "    </tr>\n",
       "    <tr>\n",
       "      <th>35847</th>\n",
       "      <td>22906</td>\n",
       "      <td>19984</td>\n",
       "    </tr>\n",
       "    <tr>\n",
       "      <th>35848</th>\n",
       "      <td>22907</td>\n",
       "      <td>12897</td>\n",
       "    </tr>\n",
       "    <tr>\n",
       "      <th>35849</th>\n",
       "      <td>22908</td>\n",
       "      <td>19402</td>\n",
       "    </tr>\n",
       "    <tr>\n",
       "      <th>35850</th>\n",
       "      <td>22909</td>\n",
       "      <td>30483</td>\n",
       "    </tr>\n",
       "    <tr>\n",
       "      <th>35851</th>\n",
       "      <td>22909</td>\n",
       "      <td>30484</td>\n",
       "    </tr>\n",
       "    <tr>\n",
       "      <th>35852</th>\n",
       "      <td>22910</td>\n",
       "      <td>1864</td>\n",
       "    </tr>\n",
       "    <tr>\n",
       "      <th>35853</th>\n",
       "      <td>22911</td>\n",
       "      <td>35574</td>\n",
       "    </tr>\n",
       "    <tr>\n",
       "      <th>35854</th>\n",
       "      <td>22912</td>\n",
       "      <td>22333</td>\n",
       "    </tr>\n",
       "    <tr>\n",
       "      <th>35855</th>\n",
       "      <td>22912</td>\n",
       "      <td>22334</td>\n",
       "    </tr>\n",
       "    <tr>\n",
       "      <th>35856</th>\n",
       "      <td>22913</td>\n",
       "      <td>34838</td>\n",
       "    </tr>\n",
       "    <tr>\n",
       "      <th>35857</th>\n",
       "      <td>22914</td>\n",
       "      <td>21622</td>\n",
       "    </tr>\n",
       "    <tr>\n",
       "      <th>35858</th>\n",
       "      <td>22914</td>\n",
       "      <td>21623</td>\n",
       "    </tr>\n",
       "    <tr>\n",
       "      <th>35859</th>\n",
       "      <td>22914</td>\n",
       "      <td>21624</td>\n",
       "    </tr>\n",
       "    <tr>\n",
       "      <th>35860</th>\n",
       "      <td>22914</td>\n",
       "      <td>21625</td>\n",
       "    </tr>\n",
       "    <tr>\n",
       "      <th>35861</th>\n",
       "      <td>22914</td>\n",
       "      <td>21626</td>\n",
       "    </tr>\n",
       "    <tr>\n",
       "      <th>35862</th>\n",
       "      <td>22915</td>\n",
       "      <td>20033</td>\n",
       "    </tr>\n",
       "  </tbody>\n",
       "</table>\n",
       "<p>35863 rows × 2 columns</p>\n",
       "</div>"
      ],
      "text/plain": [
       "       cops_index  assignment_index\n",
       "0               0             17488\n",
       "1               1                53\n",
       "2               1                54\n",
       "3               2               516\n",
       "4               3               729\n",
       "5               4              1024\n",
       "6               5              3882\n",
       "7               6              4541\n",
       "8               6              4542\n",
       "9               6              4543\n",
       "10              7              5086\n",
       "11              8              5106\n",
       "12              8              5107\n",
       "13              8              5108\n",
       "14              9              5606\n",
       "15              9              5607\n",
       "16              9              5608\n",
       "17             10              6287\n",
       "18             11              6653\n",
       "19             11              6654\n",
       "20             11              6655\n",
       "21             12              7060\n",
       "22             13              7217\n",
       "23             14              7464\n",
       "24             14              7465\n",
       "25             14              7466\n",
       "26             14              7467\n",
       "27             14              7468\n",
       "28             15              9797\n",
       "29             16             10507\n",
       "...           ...               ...\n",
       "35833       22896              7215\n",
       "35834       22897             26148\n",
       "35835       22898             21350\n",
       "35836       22898             21351\n",
       "35837       22899             19838\n",
       "35838       22900             30392\n",
       "35839       22900             30393\n",
       "35840       22900             30394\n",
       "35841       22901              6762\n",
       "35842       22901              6763\n",
       "35843       22902             23031\n",
       "35844       22903             34836\n",
       "35845       22904             21877\n",
       "35846       22905             34837\n",
       "35847       22906             19984\n",
       "35848       22907             12897\n",
       "35849       22908             19402\n",
       "35850       22909             30483\n",
       "35851       22909             30484\n",
       "35852       22910              1864\n",
       "35853       22911             35574\n",
       "35854       22912             22333\n",
       "35855       22912             22334\n",
       "35856       22913             34838\n",
       "35857       22914             21622\n",
       "35858       22914             21623\n",
       "35859       22914             21624\n",
       "35860       22914             21625\n",
       "35861       22914             21626\n",
       "35862       22915             20033\n",
       "\n",
       "[35863 rows x 2 columns]"
      ]
     },
     "execution_count": 44,
     "metadata": {},
     "output_type": "execute_result"
    }
   ],
   "source": [
    "assignment_cop_table"
   ]
  },
  {
   "cell_type": "code",
   "execution_count": 45,
   "metadata": {},
   "outputs": [],
   "source": [
    "assignment_cop_table.to_csv(\"2_out_historic_roster_grouped_key.csv\", index=False)"
   ]
  },
  {
   "cell_type": "code",
   "execution_count": 46,
   "metadata": {},
   "outputs": [],
   "source": [
    "cops.to_csv(\"2_out_CPD_historic_roster_grouped.csv\", index=False)"
   ]
  },
  {
   "cell_type": "code",
   "execution_count": 47,
   "metadata": {},
   "outputs": [],
   "source": [
    "merge_table.to_csv(\"2_out_merge_cops_cpdp.csv\", index=False)"
   ]
  },
  {
   "cell_type": "code",
   "execution_count": 48,
   "metadata": {},
   "outputs": [],
   "source": [
    "all_assignments.index.name=\"\""
   ]
  },
  {
   "cell_type": "code",
   "execution_count": 49,
   "metadata": {},
   "outputs": [],
   "source": [
    "all_assignments_grouped_key=all_assignments.merge(assignment_cop_table, on = \"assignment_index\",\n",
    "                                                  left_index=False)"
   ]
  },
  {
   "cell_type": "code",
   "execution_count": 50,
   "metadata": {},
   "outputs": [],
   "source": [
    "all_assignments_grouped_key.to_csv(\"2_out_CPD_historic_assignments_grouped.csv\", index=False)"
   ]
  }
 ],
 "metadata": {
  "kernelspec": {
   "display_name": "Python 3",
   "language": "python",
   "name": "python3"
  },
  "language_info": {
   "codemirror_mode": {
    "name": "ipython",
    "version": 3
   },
   "file_extension": ".py",
   "mimetype": "text/x-python",
   "name": "python",
   "nbconvert_exporter": "python",
   "pygments_lexer": "ipython3",
   "version": "3.6.9"
  }
 },
 "nbformat": 4,
 "nbformat_minor": 2
}
